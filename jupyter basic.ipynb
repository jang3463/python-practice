{
 "cells": [
  {
   "cell_type": "markdown",
   "metadata": {},
   "source": [
    "# 주피터 노트북 사용법\n",
    "* Shift + Enter 키를 누르면 셀이 실행되고 커서가 다음셀로 이동합니다.\n",
    "* Enter 키를 누르면 다시 편집상태로 돌아옵니다.\n",
    "* ESC 키를 누르고\n",
    "    * a키를 누르면 위에 셀이 추가됩니다.\n",
    "    * b키를 누르면 아래에 셀이 추가됩니다.\n",
    "    * dd키를 누르면 셀이 삭제 됩니다.\n",
    "    * m키를 누르면 문서 셀로 변경됩니다.\n",
    "    * y키를 누르면 코드 셀로 변경됩니다.\n",
    "    \n",
    "* h키를 누르면 다양한 단축키들을 확인할 수 있습니다.\n",
    "\n",
    "\n",
    "## 마크다운(Markdown)이란?\n",
    "* 코드와 함께 문서화를 하실수 있습니다.\n",
    "* 문서화를 할 수 있는 `문법`입니다.\n",
    "```\n",
    "여러 줄의 설명을 \n",
    "줄바꿈을 쓰고자 할 때\n",
    "```"
   ]
  },
  {
   "cell_type": "code",
   "execution_count": null,
   "metadata": {},
   "outputs": [],
   "source": [
    "print(\"Hello Wolrd!\")"
   ]
  },
  {
   "cell_type": "code",
   "execution_count": null,
   "metadata": {},
   "outputs": [],
   "source": [
    "a=1\n",
    "b=2\n",
    "a+b"
   ]
  },
  {
   "cell_type": "code",
   "execution_count": null,
   "metadata": {},
   "outputs": [],
   "source": []
  }
 ],
 "metadata": {
  "kernelspec": {
   "display_name": "Python 3",
   "language": "python",
   "name": "python3"
  },
  "language_info": {
   "codemirror_mode": {
    "name": "ipython",
    "version": 3
   },
   "file_extension": ".py",
   "mimetype": "text/x-python",
   "name": "python",
   "nbconvert_exporter": "python",
   "pygments_lexer": "ipython3",
   "version": "3.8.3"
  }
 },
 "nbformat": 4,
 "nbformat_minor": 4
}
