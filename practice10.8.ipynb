{
 "cells": [
  {
   "cell_type": "code",
   "execution_count": 1,
   "metadata": {
    "scrolled": true
   },
   "outputs": [
    {
     "name": "stdout",
     "output_type": "stream",
     "text": [
      "Fun Programming!\n"
     ]
    }
   ],
   "source": [
    "print('Fun Programming!')"
   ]
  },
  {
   "cell_type": "code",
   "execution_count": null,
   "metadata": {},
   "outputs": [],
   "source": [
    "print(\"Programming! It's fun.\")"
   ]
  },
  {
   "cell_type": "code",
   "execution_count": 2,
   "metadata": {},
   "outputs": [
    {
     "name": "stdout",
     "output_type": "stream",
     "text": [
      "My name is Hong Gil Dong.\n",
      "I am 13 years old.\n"
     ]
    }
   ],
   "source": [
    "print(\"My name is Hong Gil Dong.\\nI am 13 years old.\")"
   ]
  },
  {
   "cell_type": "code",
   "execution_count": 3,
   "metadata": {},
   "outputs": [
    {
     "name": "stdout",
     "output_type": "stream",
     "text": [
      "(@) (@)\n",
      "(=^.^=)\n",
      "(-m-m-)\n"
     ]
    }
   ],
   "source": [
    "print(\"(@) (@)\\n(=^.^=)\\n(-m-m-)\")"
   ]
  },
  {
   "cell_type": "code",
   "execution_count": 4,
   "metadata": {},
   "outputs": [
    {
     "name": "stdout",
     "output_type": "stream",
     "text": [
      "I can program well.\n",
      "Dreams come true.\n"
     ]
    }
   ],
   "source": [
    "print(\"I can program well.\\nDreams come true.\")"
   ]
  },
  {
   "cell_type": "code",
   "execution_count": null,
   "metadata": {},
   "outputs": [],
   "source": [
    "print(\"      item     count     price\")\n",
    "print(\"       pen        20       100\")\n",
    "print(\"      note         5        95\")\n",
    "print(\"    eraser       110        97\")"
   ]
  },
  {
   "cell_type": "code",
   "execution_count": 6,
   "metadata": {},
   "outputs": [
    {
     "name": "stdout",
     "output_type": "stream",
     "text": [
      "TTTTTTTTTT\n",
      "TTTTTTTTTT\n",
      "    TT\n",
      "    TT\n"
     ]
    }
   ],
   "source": [
    "print(\"TTTTTTTTTT\")\n",
    "print(\"TTTTTTTTTT\")\n",
    "print(\"%6s\" %\"TT\")\n",
    "print(\"%6s\" %\"TT\")\n",
    "print(\"%6s\" %\"TT\")\n"
   ]
  },
  {
   "cell_type": "code",
   "execution_count": 11,
   "metadata": {},
   "outputs": [
    {
     "name": "stdout",
     "output_type": "stream",
     "text": [
      "          Seoul     10,312,545        +91,375\n",
      "          Pusan      3,567,910         +5,868\n",
      "        Incheon      2,758,296        +64,888\n",
      "          Daegu      2,511,676        +17,230\n",
      "        Gwangju      1,454,636        +29,774\n"
     ]
    }
   ],
   "source": [
    "print(\"%15s%15s%15s\" %(\"Seoul\",\"10,312,545\",\"+91,375\"))\n",
    "print(\"%15s%15s%15s\" %(\"Pusan\",\"3,567,910\",\"+5,868\"))\n",
    "print(\"%15s%15s%15s\" %(\"Incheon\",\"2,758,296\",\"+64,888\"))\n",
    "print(\"%15s%15s%15s\" %(\"Daegu\",\"2,511,676\",\"+17,230\"))\n",
    "print(\"%15s%15s%15s\" %(\"Gwangju\",\"1,454,636\",\"+29,774\"))\n",
    "\n"
   ]
  },
  {
   "cell_type": "code",
   "execution_count": 12,
   "metadata": {},
   "outputs": [
    {
     "name": "stdout",
     "output_type": "stream",
     "text": [
      "-100\n"
     ]
    }
   ],
   "source": [
    "x=-100\n",
    "print(x)"
   ]
  },
  {
   "cell_type": "code",
   "execution_count": 13,
   "metadata": {},
   "outputs": [
    {
     "name": "stdout",
     "output_type": "stream",
     "text": [
      "-1\n",
      "100\n"
     ]
    }
   ],
   "source": [
    "x=-1\n",
    "y=100\n",
    "print(x)\n",
    "print(y)"
   ]
  },
  {
   "cell_type": "code",
   "execution_count": 16,
   "metadata": {},
   "outputs": [
    {
     "name": "stdout",
     "output_type": "stream",
     "text": [
      "49 * 0.268300 = 13.146700\n"
     ]
    }
   ],
   "source": [
    "x=49\n",
    "y=0.2683\n",
    "z=x*y\n",
    "print(\"49 * 0.268300 = %0.6f\" %z)"
   ]
  },
  {
   "cell_type": "code",
   "execution_count": 23,
   "metadata": {},
   "outputs": [
    {
     "name": "stdout",
     "output_type": "stream",
     "text": [
      " 2.1yd = 192.0cm\n",
      "10.5in =  26.7cm\n"
     ]
    }
   ],
   "source": [
    "x=91.44\n",
    "y=2.54\n",
    "\n",
    "print(\" 2.1yd = %.1fcm\" %(2.1*x))\n",
    "print(\"10.5in =  %.1fcm\" %(10.5*y))"
   ]
  },
  {
   "cell_type": "code",
   "execution_count": 28,
   "metadata": {},
   "outputs": [
    {
     "name": "stdout",
     "output_type": "stream",
     "text": [
      "height = 170\n",
      "Your height is 170cm.\n"
     ]
    }
   ],
   "source": [
    "x=input(\"height = \")\n",
    "y=int(x)\n",
    "print(\"Your height is %dcm.\" %y)"
   ]
  },
  {
   "cell_type": "code",
   "execution_count": 34,
   "metadata": {},
   "outputs": [
    {
     "name": "stdout",
     "output_type": "stream",
     "text": [
      "16 5\n",
      "16 * 5 = 80\n",
      "16 / 5 = 3\n"
     ]
    }
   ],
   "source": [
    "x,y=input().split()\n",
    "\n",
    "x=int(x)\n",
    "y=int(y)\n",
    "\n",
    "\n",
    "print(\"%d * %d = %d\" %(x,y,x*y))\n",
    "print(\"%d / %d = %d\" %(x,y,x/y))"
   ]
  },
  {
   "cell_type": "code",
   "execution_count": 35,
   "metadata": {},
   "outputs": [
    {
     "name": "stdout",
     "output_type": "stream",
     "text": [
      "12.2536\n",
      "526.129535\n",
      "A\n",
      "12.25\n",
      "526.13\n",
      "A\n"
     ]
    }
   ],
   "source": [
    "x=float(input())\n",
    "y=float(input())\n",
    "z=input()\n",
    "\n",
    "print(\"%.2f\" %x)\n",
    "print(\"%.2f\" %y)\n",
    "print(z)"
   ]
  },
  {
   "cell_type": "code",
   "execution_count": 36,
   "metadata": {},
   "outputs": [
    {
     "name": "stdout",
     "output_type": "stream",
     "text": [
      "1.2568\n",
      "95.1234563\n",
      "526.58746343\n",
      "1.257\n",
      "95.123\n",
      "526.587\n"
     ]
    }
   ],
   "source": [
    "x=float(input())\n",
    "y=float(input())\n",
    "z=float(input())\n",
    "\n",
    "print(\"%.3f\" %x)\n",
    "print(\"%.3f\" %y)\n",
    "print(\"%.3f\" %z)"
   ]
  },
  {
   "cell_type": "code",
   "execution_count": 37,
   "metadata": {},
   "outputs": [
    {
     "name": "stdout",
     "output_type": "stream",
     "text": [
      "10 + 20 = 30\n"
     ]
    }
   ],
   "source": [
    "x=10\n",
    "y=20\n",
    "z=30\n",
    "\n",
    "print(\"%d + %d = %d\" %(x,y,z))"
   ]
  },
  {
   "cell_type": "code",
   "execution_count": 39,
   "metadata": {},
   "outputs": [
    {
     "name": "stdout",
     "output_type": "stream",
     "text": [
      "     80.50     22.34    102.84\n"
     ]
    }
   ],
   "source": [
    "x=80.5\n",
    "y=22.34\n",
    "z=x+y\n",
    "\n",
    "print(\"%10.2f%10.2f%10.2f\" %(x,y,z))"
   ]
  },
  {
   "cell_type": "code",
   "execution_count": 42,
   "metadata": {},
   "outputs": [
    {
     "name": "stdout",
     "output_type": "stream",
     "text": [
      "100.12 * 50 = 5006\n"
     ]
    }
   ],
   "source": [
    "x=50\n",
    "y=100.12\n",
    "\n",
    "print(\"%.2f * %d = %d\" %(y,x,x*y))"
   ]
  },
  {
   "cell_type": "code",
   "execution_count": 45,
   "metadata": {},
   "outputs": [
    {
     "name": "stdout",
     "output_type": "stream",
     "text": [
      "20 50 100\n",
      "sum = 170\n",
      "avg = 56\n"
     ]
    }
   ],
   "source": [
    "x,y,z=input().split()\n",
    "x=int(x)\n",
    "y=int(y)\n",
    "z=int(z)\n",
    "\n",
    "\n",
    "print(\"sum = %d\" %(x+y+z))\n",
    "print(\"avg = %d\" %((x+y+z)/3))\n"
   ]
  },
  {
   "cell_type": "code",
   "execution_count": null,
   "metadata": {},
   "outputs": [],
   "source": [
    "a=input(\"whoaryou\")"
   ]
  },
  {
   "cell_type": "code",
   "execution_count": 48,
   "metadata": {},
   "outputs": [
    {
     "name": "stdout",
     "output_type": "stream",
     "text": [
      "yard? 10.1\n",
      "10.1yard = 923.5cm\n"
     ]
    }
   ],
   "source": [
    "x=float(input(\"yard? \"))\n",
    "print(\"%.1fyard = %.1fcm\" %(x,x*91.44))"
   ]
  },
  {
   "cell_type": "code",
   "execution_count": 49,
   "metadata": {},
   "outputs": [
    {
     "name": "stdout",
     "output_type": "stream",
     "text": [
      "10 25 33\n",
      "sum : 68\n",
      "avg : 22\n"
     ]
    }
   ],
   "source": [
    "#세 개의 정수를 입력 받아서 합계와 평균을 출력하시오. \n",
    "# 단 평균은 소수 이하를 버리고 정수부분만 출력한다.\n",
    "\n",
    "x,y,z=input().split()\n",
    "x=int(x)\n",
    "y=int(y)\n",
    "z=int(z)\n",
    "sum1=x+y+z\n",
    "avg=sum1/3\n",
    "\n",
    "print(\"sum : %d\" %sum1)\n",
    "print(\"avg : %d\" %avg)\n"
   ]
  },
  {
   "cell_type": "code",
   "execution_count": 50,
   "metadata": {},
   "outputs": [
    {
     "name": "stdout",
     "output_type": "stream",
     "text": [
      "20 35\n",
      "120 5\n"
     ]
    }
   ],
   "source": [
    "#정수 2개를 입력받아서 첫 번째 수에는 100을 증가시켜 저장하고 두 번째 수는 10으로 나눈 나머지를 저장한 후 두 수를 차례로 출력하는 프로그램을 작성하시오.\n",
    "\n",
    "x,y=input().split()\n",
    "x=int(x)+100\n",
    "y=int(y)%10\n",
    "\n",
    "print(x,y)"
   ]
  },
  {
   "cell_type": "code",
   "execution_count": 54,
   "metadata": {},
   "outputs": [
    {
     "name": "stdout",
     "output_type": "stream",
     "text": [
      "5\n",
      "5\n",
      "7\n"
     ]
    }
   ],
   "source": [
    "#한 개의 정수를 입력 받아서 후치증가 연산자를 사용하여 출력한 후 전치 증가 연산자를 사용하여 출력하는프로그램을 작성하시오.\n",
    "\n",
    "x=int(input())\n",
    "print(x)\n",
    "print(x+2)"
   ]
  },
  {
   "cell_type": "code",
   "execution_count": null,
   "metadata": {},
   "outputs": [],
   "source": []
  },
  {
   "cell_type": "code",
   "execution_count": null,
   "metadata": {},
   "outputs": [],
   "source": []
  },
  {
   "cell_type": "code",
   "execution_count": null,
   "metadata": {},
   "outputs": [],
   "source": []
  },
  {
   "cell_type": "code",
   "execution_count": null,
   "metadata": {},
   "outputs": [],
   "source": []
  }
 ],
 "metadata": {
  "kernelspec": {
   "display_name": "Python 3",
   "language": "python",
   "name": "python3"
  },
  "language_info": {
   "codemirror_mode": {
    "name": "ipython",
    "version": 3
   },
   "file_extension": ".py",
   "mimetype": "text/x-python",
   "name": "python",
   "nbconvert_exporter": "python",
   "pygments_lexer": "ipython3",
   "version": "3.8.3"
  }
 },
 "nbformat": 4,
 "nbformat_minor": 4
}
