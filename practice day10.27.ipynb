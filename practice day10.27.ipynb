{
 "cells": [
  {
   "cell_type": "code",
   "execution_count": 51,
   "metadata": {},
   "outputs": [
    {
     "name": "stdout",
     "output_type": "stream",
     "text": [
      "4\n",
      "1 2 3 7\n",
      "3\n"
     ]
    }
   ],
   "source": [
    "# 백준 문제 1978\n",
    "\n",
    "n=int(input())\n",
    "\n",
    "l1=list(map(int,input().split()))\n",
    "\n",
    "res=0\n",
    "\n",
    "for i in range(n):\n",
    "    cnt=0\n",
    "    for j in range(1,l1[i]+1):\n",
    "        if l1[i]%j==0:\n",
    "            cnt+=1\n",
    "    if cnt==2:\n",
    "        res+=1\n",
    "\n",
    "print(res)"
   ]
  },
  {
   "cell_type": "code",
   "execution_count": null,
   "metadata": {},
   "outputs": [],
   "source": [
    "# 백준 문제 2581\n",
    "\n",
    "m=int(input())\n",
    "n=int(input())\n",
    "l1=[k for k in range(m,n+1)]\n",
    "l2=[]\n",
    "\n",
    "for i in l1:\n",
    "    cnt=0\n",
    "    for j in range(1,i+1):\n",
    "        if i%j==0:\n",
    "            cnt+=1\n",
    "    if cnt==2:\n",
    "        l2.append(i)\n",
    "\n",
    "if len(l2)!=0:\n",
    "    print(sum(l2))\n",
    "    print(min(l2))\n",
    "else:\n",
    "    print(-1)"
   ]
  },
  {
   "cell_type": "code",
   "execution_count": null,
   "metadata": {},
   "outputs": [],
   "source": [
    "# 문제 1929\n",
    "\n",
    "m,n=map(int,input().split())\n",
    "\n",
    "l1=[k for k in range(m,n+1)]\n",
    "l2=[]\n",
    "\n",
    "for i in l1:\n",
    "    cnt=0\n",
    "    for j in range(1,i+1):\n",
    "        if i%j==0:\n",
    "            cnt+=1\n",
    "    if cnt==2:\n",
    "        l2.append(i)\n",
    "\n",
    "for x in l2:\n",
    "    print(x)"
   ]
  },
  {
   "cell_type": "code",
   "execution_count": null,
   "metadata": {},
   "outputs": [],
   "source": []
  },
  {
   "cell_type": "code",
   "execution_count": null,
   "metadata": {},
   "outputs": [],
   "source": []
  },
  {
   "cell_type": "code",
   "execution_count": null,
   "metadata": {},
   "outputs": [],
   "source": []
  }
 ],
 "metadata": {
  "kernelspec": {
   "display_name": "Python 3",
   "language": "python",
   "name": "python3"
  },
  "language_info": {
   "codemirror_mode": {
    "name": "ipython",
    "version": 3
   },
   "file_extension": ".py",
   "mimetype": "text/x-python",
   "name": "python",
   "nbconvert_exporter": "python",
   "pygments_lexer": "ipython3",
   "version": "3.8.3"
  }
 },
 "nbformat": 4,
 "nbformat_minor": 4
}
