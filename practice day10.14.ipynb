{
 "cells": [
  {
   "cell_type": "code",
   "execution_count": 3,
   "metadata": {},
   "outputs": [
    {
     "name": "stdout",
     "output_type": "stream",
     "text": [
      "4.0 2.9\n",
      "C\n"
     ]
    }
   ],
   "source": [
    "#두 개의 실수를 입력받아 모두 4.0 이상이면 \"A\", 모두 3.0 이상이면 \"B\", 아니면 \"C\" 라고 출력하는 프로그램을 작성하시오.\n",
    "\n",
    "x,y=map(float,input().split())\n",
    "\n",
    "if x and y>=4.0:\n",
    "    print('A')\n",
    "elif x and y>=3.0:\n",
    "    print('B')\n",
    "else:\n",
    "    print('C')"
   ]
  },
  {
   "cell_type": "code",
   "execution_count": 9,
   "metadata": {},
   "outputs": [
    {
     "name": "stdout",
     "output_type": "stream",
     "text": [
      "M 12\n",
      "BOY\n"
     ]
    }
   ],
   "source": [
    "#남자는 'M' 여자는 'F'로 나타내기로 하고 18세 이상을 성인이라고 하자.\n",
    "# 성별('M', 'F')과 나이를 입력받아 \"MAN\"(성인남자), \"WOMAN\"(성인여자), \"BOY\"(미성년남자), \"GIRL\"(미성년여자)을 구분하여 출력하는 프로그램을 작성하시오.\n",
    "\n",
    "x,y=input().split()\n",
    "\n",
    "y=int(y)\n",
    "\n",
    "if x=='M' and y>=18:\n",
    "    print('MAN')\n",
    "elif x=='M' and y<18:\n",
    "    print('BOY')\n",
    "elif x==\"F\" and y>=18:\n",
    "    print('WOMAN')\n",
    "else:\n",
    "    print('GIRL')"
   ]
  },
  {
   "cell_type": "code",
   "execution_count": 10,
   "metadata": {},
   "outputs": [
    {
     "name": "stdout",
     "output_type": "stream",
     "text": [
      "2 0\n",
      "0 1\n"
     ]
    }
   ],
   "source": [
    "#2개의 정수를 입력 받아서 논리곱과 논리합의 결과를 출력하는 프로그램을 작성하시오.\n",
    "\n",
    "x,y=map(int,input().split())\n",
    "\n",
    "if x!=0:\n",
    "    x=1\n",
    "else:\n",
    "    x=0\n",
    "    \n",
    "if y!=0:\n",
    "    y=1\n",
    "else:\n",
    "    y=0\n",
    "\n",
    "print('%d %d' %(x*y,x+y))"
   ]
  },
  {
   "cell_type": "code",
   "execution_count": 11,
   "metadata": {},
   "outputs": [
    {
     "name": "stdout",
     "output_type": "stream",
     "text": [
      "B\n",
      "Good\n"
     ]
    }
   ],
   "source": [
    "# 영문 대문자를 입력받아 \n",
    "# 'A'이면 “Excellent”, \n",
    "# 'B'이면 “Good”, \n",
    "# 'C'이면 “Usually”, \n",
    "# 'D'이면 “Effort”, \n",
    "# 'F'이면 “Failure”, \n",
    "# 그 외 문자이면 “error” 라고 출력하는 프로그램을 작성하시오.\n",
    "\n",
    "x=input().strip()\n",
    "\n",
    "if x=='A':\n",
    "    print('Excellent')\n",
    "elif x=='B':\n",
    "    print('Good')\n",
    "elif x=='C':\n",
    "    print('Usually')\n",
    "elif x=='D':\n",
    "    print('Effort')\n",
    "elif x=='F':\n",
    "    print('Failure')\n",
    "else:\n",
    "    print('error')"
   ]
  },
  {
   "cell_type": "code",
   "execution_count": null,
   "metadata": {},
   "outputs": [],
   "source": []
  }
 ],
 "metadata": {
  "kernelspec": {
   "display_name": "Python 3",
   "language": "python",
   "name": "python3"
  },
  "language_info": {
   "codemirror_mode": {
    "name": "ipython",
    "version": 3
   },
   "file_extension": ".py",
   "mimetype": "text/x-python",
   "name": "python",
   "nbconvert_exporter": "python",
   "pygments_lexer": "ipython3",
   "version": "3.8.3"
  }
 },
 "nbformat": 4,
 "nbformat_minor": 4
}
