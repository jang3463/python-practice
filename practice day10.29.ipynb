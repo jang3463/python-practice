{
 "cells": [
  {
   "cell_type": "code",
   "execution_count": 1,
   "metadata": {},
   "outputs": [
    {
     "name": "stdout",
     "output_type": "stream",
     "text": [
      "2 7\n",
      "2 * 1 =  7   2 * 2 = 14   2 * 3 = 21   \n",
      "2 * 4 = 28   2 * 5 = 35   2 * 6 = 42   \n",
      "2 * 7 = 49   2 * 8 = 56   2 * 9 = 63   \n",
      "\n",
      "3 * 1 =  7   3 * 2 = 14   3 * 3 = 21   \n",
      "3 * 4 = 28   3 * 5 = 35   3 * 6 = 42   \n",
      "3 * 7 = 49   3 * 8 = 56   3 * 9 = 63   \n",
      "\n",
      "4 * 1 =  7   4 * 2 = 14   4 * 3 = 21   \n",
      "4 * 4 = 28   4 * 5 = 35   4 * 6 = 42   \n",
      "4 * 7 = 49   4 * 8 = 56   4 * 9 = 63   \n",
      "\n",
      "5 * 1 =  7   5 * 2 = 14   5 * 3 = 21   \n",
      "5 * 4 = 28   5 * 5 = 35   5 * 6 = 42   \n",
      "5 * 7 = 49   5 * 8 = 56   5 * 9 = 63   \n",
      "\n",
      "6 * 1 =  7   6 * 2 = 14   6 * 3 = 21   \n",
      "6 * 4 = 28   6 * 5 = 35   6 * 6 = 42   \n",
      "6 * 7 = 49   6 * 8 = 56   6 * 9 = 63   \n",
      "\n",
      "7 * 1 =  7   7 * 2 = 14   7 * 3 = 21   \n",
      "7 * 4 = 28   7 * 5 = 35   7 * 6 = 42   \n",
      "7 * 7 = 49   7 * 8 = 56   7 * 9 = 63   \n",
      "\n"
     ]
    }
   ],
   "source": [
    "# 원하는 구구단의 범위를 입력받아 해당 구간의 구구단을 출력하는 프로그램을 작성하시오.\n",
    "\n",
    "# <처리조건>\n",
    "\n",
    "# (1) 구간의 처음과 끝을 입력받는다.\n",
    "\n",
    "# (2) 입력된 구간은 반드시 처음 입력 값이 끝의 입력 값보다 작아야 하는 것은 아니다.\n",
    "\n",
    "#      즉, 입력된 구간의 범위는 증가하거나 감소하는 순서 그대로 출력되어야 한다.\n",
    "\n",
    "n,m=map(int,input().split())\n",
    "\n",
    "if n>=m:\n",
    "    for i in range(n,m-1,-1):\n",
    "        count=1\n",
    "        for x in range(3):\n",
    "            for y in range(3):\n",
    "                print('%d * %d = %2d' %(i,count,count*i),end='   ')\n",
    "                count+=1\n",
    "            print()\n",
    "        print()\n",
    "\n",
    "elif m>n:\n",
    "    for i in range(n,m+1):\n",
    "        count = 1\n",
    "        for x in range(3):\n",
    "            for y in range(3):\n",
    "                print('%d * %d = %2d' % (i, count, count * m), end='   ')\n",
    "                count += 1\n",
    "            print()\n",
    "        print()"
   ]
  },
  {
   "cell_type": "code",
   "execution_count": 2,
   "metadata": {},
   "outputs": [
    {
     "name": "stdout",
     "output_type": "stream",
     "text": [
      "60 10 300 1000\n",
      "1500000\n"
     ]
    }
   ],
   "source": [
    "# 진수는 회사 생활에 지쳐 회사를 그만두고 귀농을 하여 작물들을 키우며 생활하고 있습니다. 진수는 작물 중에서도 '스타후르츠' 라는 작물을 제일 좋아합니다.\n",
    "\n",
    "# 스타후르츠 씨앗을 심으면 자라는데 T일이 걸립니다. i일에 스타후르츠 씨앗을 심으면 i+T일에 수확할 수 있고 수확한 날에도 같은 칸에 씨앗을 또 심을 수 있습니다.\n",
    "\n",
    "# 진수에게는 스타후르츠 씨앗을 심을 수 있는 빈 칸이 C개 있고 한 칸에 한 개의 스타후르츠를 심을 수 있습니다.\n",
    "\n",
    "# 오늘은 여름 1일이고 N일까지 여름이 지속됩니다. 스타후르츠는 여름이 아닌 날에는 바로 시들어버리므로 N일이 지나면 더 이상 수확할 수 없습니다.\n",
    "\n",
    "# 진수는 스타후르츠 한 개를 판매하면 P원을 벌 수 있습니다. 진수는 올해 여름 동안 얼마나 많은 돈을 벌 수 있을까요?\n",
    "\n",
    "# 진수는 하루에 일을 원하는 만큼 할 수 있고, 씨앗도 충분히 가지고 있다고 가정합니다.\n",
    "\n",
    "n,t,c,p=map(int,input().split())\n",
    "# rv=((n-1)//t)*c*p\n",
    "# print(rv)\n",
    "n=n-1\n",
    "count=0\n",
    "while True:\n",
    "    if n-t>=0:\n",
    "        count+=1\n",
    "        n=n-t\n",
    "    else:\n",
    "        break\n",
    "rv=count*c*p\n",
    "print(rv)\n"
   ]
  },
  {
   "cell_type": "code",
   "execution_count": 3,
   "metadata": {},
   "outputs": [
    {
     "name": "stdout",
     "output_type": "stream",
     "text": [
      "5 21\n",
      "5 6 7 8 9\n",
      "21\n"
     ]
    }
   ],
   "source": [
    "# 카지노에서 제일 인기 있는 게임 블랙잭의 규칙은 상당히 쉽다. 카드의 합이 21을 넘지 않는 한도 내에서, 카드의 합을 최대한 크게 만드는 게임이다. 블랙잭은 카지노마다 다양한 규정이 있다.\n",
    "# 한국 최고의 블랙잭 고수 김정인은 새로운 블랙잭 규칙을 만들어 상근, 창영이와 게임하려고 한다.\n",
    "# 김정인 버전의 블랙잭에서 각 카드에는 양의 정수가 쓰여 있다. 그 다음, 딜러는 N장의 카드를 모두 숫자가 보이도록 바닥에 놓는다. 그런 후에 딜러는 숫자 M을 크게 외친다.\n",
    "# 이제 플레이어는 제한된 시간 안에 N장의 카드 중에서 3장의 카드를 골라야 한다. 블랙잭 변형 게임이기 때문에, 플레이어가 고른 카드의 합은 M을 넘지 않으면서 M과 최대한 가깝게 만들어야 한다.\n",
    "# N장의 카드에 써져 있는 숫자가 주어졌을 때, M을 넘지 않으면서 M에 최대한 가까운 카드 3장의 합을 구해 출력하시오.\n",
    "\n",
    "from itertools import combinations\n",
    "\n",
    "\n",
    "n,m=map(int,input().split())\n",
    "\n",
    "l1=input().split()\n",
    "\n",
    "l1=list(map(int,l1))\n",
    "\n",
    "l2=list(combinations(l1,3))\n",
    "\n",
    "l3=[]\n",
    "\n",
    "l4=[]\n",
    "\n",
    "for i in range(len(l2)):\n",
    "    l3.append(sum(l2[i]))\n",
    "\n",
    "\n",
    "for i in l3:\n",
    "    l4.append(abs(i-m))\n",
    "\n",
    "print(l3[l4.index(min(l4))])"
   ]
  },
  {
   "cell_type": "code",
   "execution_count": null,
   "metadata": {},
   "outputs": [],
   "source": []
  },
  {
   "cell_type": "code",
   "execution_count": null,
   "metadata": {},
   "outputs": [],
   "source": []
  },
  {
   "cell_type": "code",
   "execution_count": null,
   "metadata": {},
   "outputs": [],
   "source": []
  },
  {
   "cell_type": "code",
   "execution_count": null,
   "metadata": {},
   "outputs": [],
   "source": []
  },
  {
   "cell_type": "code",
   "execution_count": null,
   "metadata": {},
   "outputs": [],
   "source": []
  },
  {
   "cell_type": "code",
   "execution_count": null,
   "metadata": {},
   "outputs": [],
   "source": []
  },
  {
   "cell_type": "code",
   "execution_count": null,
   "metadata": {},
   "outputs": [],
   "source": []
  }
 ],
 "metadata": {
  "kernelspec": {
   "display_name": "Python 3",
   "language": "python",
   "name": "python3"
  },
  "language_info": {
   "codemirror_mode": {
    "name": "ipython",
    "version": 3
   },
   "file_extension": ".py",
   "mimetype": "text/x-python",
   "name": "python",
   "nbconvert_exporter": "python",
   "pygments_lexer": "ipython3",
   "version": "3.8.3"
  }
 },
 "nbformat": 4,
 "nbformat_minor": 4
}
