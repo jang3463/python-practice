{
 "cells": [
  {
   "cell_type": "code",
   "execution_count": 4,
   "metadata": {},
   "outputs": [
    {
     "name": "stdout",
     "output_type": "stream",
     "text": [
      "1.8\n",
      "reatake\n"
     ]
    }
   ],
   "source": [
    "# 4.5 이하의 평점을 입력받아 그 값에 따라 다음과 같이 출력하는 프로그램을 작성하시오.\n",
    "# (C, C++, Java는 switch ~ case문 사용) (Python은 if ~ else사용)\n",
    "# 단 입력는 0이상 4.5 이하이다.\n",
    "# 4.0 이상 : \"scholarship\"\n",
    "# 3.0 이상 : \"next semester\"\n",
    "# 2.0 이상 : \"seasonal semester\"\n",
    "# 2.0 미만 : \"retake\"\n",
    "\n",
    "x=float(input())\n",
    "\n",
    "if x>=4:\n",
    "    print('scholarship')\n",
    "elif x>=3:\n",
    "    print('next semester')\n",
    "elif x>=2:\n",
    "    print('seasonal semester')\n",
    "else:\n",
    "    print('retake')\n"
   ]
  },
  {
   "cell_type": "code",
   "execution_count": 5,
   "metadata": {
    "scrolled": true
   },
   "outputs": [
    {
     "name": "stdout",
     "output_type": "stream",
     "text": [
      "18 -5 10\n",
      "-5\n"
     ]
    }
   ],
   "source": [
    "# 3개의 정수를 입력받아 조건연산자를 이용하여 입력받은 수들 중 최소값을 출력하는 프로그램을 작성하시오.\n",
    "\n",
    "a,b,c=map(int,input().split())\n",
    "\n",
    "x=min(a,b,c)\n",
    "\n",
    "print(x)"
   ]
  },
  {
   "cell_type": "code",
   "execution_count": 6,
   "metadata": {},
   "outputs": [
    {
     "name": "stdout",
     "output_type": "stream",
     "text": [
      "50 85\n",
      "35\n"
     ]
    }
   ],
   "source": [
    "#두 개의 정수를 입력받아 큰 수에서 작은 수를 뺀 차를 출력하는 프로그램을 작성하시오.\n",
    "\n",
    "a,b=map(int,input().split())\n",
    "\n",
    "if a>=b:\n",
    "    print(a-b)\n",
    "else:\n",
    "    print(b-a)\n"
   ]
  },
  {
   "cell_type": "code",
   "execution_count": 8,
   "metadata": {},
   "outputs": [
    {
     "name": "stdout",
     "output_type": "stream",
     "text": [
      "12\n",
      "plus\n"
     ]
    }
   ],
   "source": [
    "#정수를 입력받아 0 이면 \"zero\" 양수이면 \"plus\" 음수이면 \"minus\" 라고 출력하는 프로그램을 작성하시오.\n",
    "\n",
    "x=int(input())\n",
    "\n",
    "if x>0:\n",
    "    print('plus')\n",
    "elif x==0:\n",
    "    print('zero')\n",
    "else:\n",
    "    print('minus')\n",
    "    "
   ]
  },
  {
   "cell_type": "code",
   "execution_count": 18,
   "metadata": {},
   "outputs": [
    {
     "name": "stdout",
     "output_type": "stream",
     "text": [
      "2001\n",
      "leap year\n"
     ]
    }
   ],
   "source": [
    "# 년도를 입력받아 윤년(leap year)인지 평년(common year)인지 판단하는 프로그램을 작성하시오.\n",
    "\n",
    "year=int(input())\n",
    "\n",
    "if year%400==0: \n",
    "    print('leap year')\n",
    "elif year%4==0 and year%100!=0:\n",
    "    print('leap year')\n",
    "else:\n",
    "    print('common year')\n",
    "\n"
   ]
  },
  {
   "cell_type": "code",
   "execution_count": 20,
   "metadata": {},
   "outputs": [
    {
     "name": "stdout",
     "output_type": "stream",
     "text": [
      "Number? 2\n",
      "cat\n"
     ]
    }
   ],
   "source": [
    "# 1번은 개, 2번은 고양이, 3번은 병아리로 정하고 번호를 입력하면 번호에 해당하는 동물을 영어로 출력하는 프로그램을 작성하시오.\n",
    "# 해당 번호가 없으면 \"I don't know.\"라고 출력한다.\n",
    "# 개-dog\n",
    "# 고양이-cat\n",
    "# 병아리-chick \n",
    "\n",
    "x=int(input(\"Number? \"))\n",
    "\n",
    "if x==1:\n",
    "    print('dog')\n",
    "elif x==2:\n",
    "    print('cat')\n",
    "elif x==3:\n",
    "    print('chick')\n",
    "else:\n",
    "    print(\"I don't know.\")"
   ]
  },
  {
   "cell_type": "code",
   "execution_count": 35,
   "metadata": {},
   "outputs": [
    {
     "name": "stdout",
     "output_type": "stream",
     "text": [
      "6\n",
      "30\n"
     ]
    }
   ],
   "source": [
    "# 1~12사이의 정수를 입력받아 평년의 경우 입력받은 월을 입력받아 평년의 경우 해당 월의 날수를 출력하는 프로그램을 작성하시오.\n",
    "\n",
    "x=int(input())\n",
    "\n",
    "if x==1 or x==3 or x==5 or x==7 or x==8 or x==10 or x==12 :\n",
    "    print(31)\n",
    "elif x==2:\n",
    "    print(28)\n",
    "else:\n",
    "    print(30)"
   ]
  },
  {
   "cell_type": "code",
   "execution_count": 38,
   "metadata": {},
   "outputs": [
    {
     "name": "stdout",
     "output_type": "stream",
     "text": [
      "1 2 3 4 5 6 7 8 9 10 11 12 13 14 15 "
     ]
    }
   ],
   "source": [
    "# 1부터 15까지 차례로 출력하는 프로그램을 작성하시오. while문을 이용하세요.\n",
    "\n",
    "i=1\n",
    "\n",
    "while True:\n",
    "    print(i,end=' ')\n",
    "    \n",
    "    if i==15:\n",
    "        break;    \n",
    "    i+=1\n",
    "    \n",
    "    \n",
    "    \n",
    "    "
   ]
  },
  {
   "cell_type": "code",
   "execution_count": 42,
   "metadata": {},
   "outputs": [
    {
     "name": "stdout",
     "output_type": "stream",
     "text": [
      "1\n",
      "1\n"
     ]
    }
   ],
   "source": [
    "#100 이하의 양의 정수만 입력된다. while 문을 이용하여 1부터 입력받은 정수까지의 합을 구하여 출력하는 프로그램을 작성하시오.\n",
    "\n",
    "x=int(input())\n",
    "\n",
    "i=1\n",
    "sum=0\n",
    "while True:\n",
    "    sum+=i\n",
    "    if i==x:\n",
    "        break;\n",
    "    i+=1\n",
    "    \n",
    "print(sum)\n",
    "    \n",
    "    \n",
    "    \n"
   ]
  },
  {
   "cell_type": "code",
   "execution_count": 44,
   "metadata": {},
   "outputs": [
    {
     "name": "stdout",
     "output_type": "stream",
     "text": [
      "number? 10\n",
      "positive integer\n",
      "number? -10\n",
      "negative number\n",
      "number? 5\n",
      "positive integer\n",
      "number? 0\n"
     ]
    }
   ],
   "source": [
    "# 한 개의 정수를 입력받아 양수(positive integer)인지 음수(negative number)인지 출력하는 작업을 반복하다가 0이 입력되면 종료하는 프로그램을 작성하시오.\n",
    "\n",
    "while True:\n",
    "    x=int(input('number? '))\n",
    "    \n",
    "    if x>0:\n",
    "        print('positive integer')\n",
    "    elif x<0:\n",
    "        print('negative number')\n",
    "    else:\n",
    "        break"
   ]
  },
  {
   "cell_type": "code",
   "execution_count": 46,
   "metadata": {
    "scrolled": true
   },
   "outputs": [
    {
     "name": "stdout",
     "output_type": "stream",
     "text": [
      "1\n",
      "2\n",
      "3\n",
      "4\n",
      "5\n",
      "6\n",
      "7\n",
      "8\n",
      "9\n",
      "10\n",
      "100\n",
      "155\n",
      "14.1\n"
     ]
    }
   ],
   "source": [
    "# 정수를 계속 입력받다가 100 이상의 수가 입력이 되면 마지막 입력된 수를 포함하여 합계와 평균을 출력하는 프로그램을 작성하시오.\n",
    "# (평균은 반올림하여 소수 첫째자리까지 출력한다.)\n",
    "\n",
    "sum=0\n",
    "count=0\n",
    "\n",
    "while True:\n",
    "    x=int(input().spl)\n",
    "    sum+=x\n",
    "    count+=1\n",
    "    avg=sum/count\n",
    "    if x>=100:\n",
    "        break\n",
    "        \n",
    "print(sum)\n",
    "print('%.1f' %avg)\n",
    "    "
   ]
  },
  {
   "cell_type": "code",
   "execution_count": null,
   "metadata": {},
   "outputs": [],
   "source": []
  },
  {
   "cell_type": "code",
   "execution_count": null,
   "metadata": {},
   "outputs": [],
   "source": []
  },
  {
   "cell_type": "code",
   "execution_count": null,
   "metadata": {},
   "outputs": [],
   "source": []
  },
  {
   "cell_type": "code",
   "execution_count": null,
   "metadata": {},
   "outputs": [],
   "source": []
  },
  {
   "cell_type": "code",
   "execution_count": null,
   "metadata": {},
   "outputs": [],
   "source": []
  },
  {
   "cell_type": "code",
   "execution_count": null,
   "metadata": {},
   "outputs": [],
   "source": []
  },
  {
   "cell_type": "code",
   "execution_count": null,
   "metadata": {},
   "outputs": [],
   "source": []
  },
  {
   "cell_type": "code",
   "execution_count": null,
   "metadata": {},
   "outputs": [],
   "source": []
  },
  {
   "cell_type": "code",
   "execution_count": null,
   "metadata": {},
   "outputs": [],
   "source": []
  }
 ],
 "metadata": {
  "kernelspec": {
   "display_name": "Python 3",
   "language": "python",
   "name": "python3"
  },
  "language_info": {
   "codemirror_mode": {
    "name": "ipython",
    "version": 3
   },
   "file_extension": ".py",
   "mimetype": "text/x-python",
   "name": "python",
   "nbconvert_exporter": "python",
   "pygments_lexer": "ipython3",
   "version": "3.8.3"
  }
 },
 "nbformat": 4,
 "nbformat_minor": 4
}
