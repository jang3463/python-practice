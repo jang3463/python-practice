{
 "cells": [
  {
   "cell_type": "code",
   "execution_count": 2,
   "metadata": {},
   "outputs": [
    {
     "name": "stdout",
     "output_type": "stream",
     "text": [
      "10 20\n",
      "11 19 190\n"
     ]
    }
   ],
   "source": [
    "#두 개의 정수를 입력받아 각각 후치 증가 연산자와 전치 감소 연산자를 사용하여 두 수의 곱을 구한 후 각각의 값을 출력하는 프로그램을 작성하시오.\n",
    "#python 사용자는 두 번째 수를 1감소시키고 두 수의 곱을 구한후 첫 번째 수를 1증가시킨다. 세 수를 출력한다.\n",
    "\n",
    "x,y= map(int,input().split())\n",
    "\n",
    "print(\"%d %d %d\" %(x+1,y-1,(x*(y-1))))"
   ]
  },
  {
   "cell_type": "code",
   "execution_count": 8,
   "metadata": {},
   "outputs": [
    {
     "name": "stdout",
     "output_type": "stream",
     "text": [
      "4 5\n",
      "0\n",
      "1\n"
     ]
    }
   ],
   "source": [
    "x,y=map(int,input().split())\n",
    "\n",
    "if x==y:\n",
    "    print(1)\n",
    "    print(0)\n",
    "else:\n",
    "    print(0)\n",
    "    print(1)\n",
    "    \n"
   ]
  },
  {
   "cell_type": "code",
   "execution_count": 15,
   "metadata": {},
   "outputs": [
    {
     "name": "stdout",
     "output_type": "stream",
     "text": [
      "5 5\n",
      "5 > 5 --- 0\n",
      "5 < 5 --- 0\n",
      "5 >= 5 --- 1\n",
      "5 <= 5 --- 1\n"
     ]
    }
   ],
   "source": [
    "#두 개의 정수를 입력받아서 다음과 같이 4가지 관계연산자의 결과를 출력하시오. 이때 입력받은 두 정수를 이용하여 출력하시오.\n",
    "\n",
    "x,y=map(int,input().split())\n",
    "\n",
    "a=1 if x>y else 0\n",
    "print(\"%d > %d --- %d\" %(x,y,a))\n",
    "\n",
    "b=1 if x<y else 0\n",
    "print(\"%d < %d --- %d\" %(x,y,b))\n",
    "\n",
    "c=1 if x>=y else 0\n",
    "print(\"%d >= %d --- %d\" %(x,y,c))\n",
    "\n",
    "d=1 if x<=y else 0\n",
    "print(\"%d <= %d --- %d\" %(x,y,d))\n"
   ]
  },
  {
   "cell_type": "code",
   "execution_count": 20,
   "metadata": {},
   "outputs": [
    {
     "name": "stdout",
     "output_type": "stream",
     "text": [
      "0 1\n",
      "0 1\n"
     ]
    }
   ],
   "source": [
    "#2개의 정수를 입력 받아서 논리곱과 논리합의 결과를 출력하는 프로그램을 작성하시오.\n",
    "#(수가 0 이 아닌 경우 참으로, 0 인 경우 거짓으로 간주합니다.)\n",
    "\n",
    "x,y=map(int,input().split())\n",
    "\n",
    "a=0 if x==0 else 1\n",
    "b=0 if y==0 else 1\n",
    "\n",
    "print('%d %d' %(a*b,a+b))\n",
    "\n"
   ]
  },
  {
   "cell_type": "code",
   "execution_count": 24,
   "metadata": {},
   "outputs": [
    {
     "name": "stdout",
     "output_type": "stream",
     "text": [
      "10 10 10\n",
      "0 1\n"
     ]
    }
   ],
   "source": [
    "#3개의 정수를 입력 받아 첫 번째 수가 가장 크면 1 아니면 0을 출력하고 세 개의 수가 모두 같으면 1 아니면 0을 출력하는 프로그램을 작성하시오.\n",
    "\n",
    "x,y,z =map(int,input().split())\n",
    "\n",
    "a=1 if x>y>=z else 0\n",
    "b=1 if x==y==z else 0\n",
    "\n",
    "print('%d %d' %(a,b))\n",
    "\n"
   ]
  },
  {
   "cell_type": "code",
   "execution_count": 26,
   "metadata": {},
   "outputs": [
    {
     "name": "stdout",
     "output_type": "stream",
     "text": [
      "70 95 63 100\n",
      "sum 328\n",
      "avg 82\n"
     ]
    }
   ],
   "source": [
    "#국어 영어 수학 컴퓨터 과목의 점수를 정수로 입력받아서 총점과 평균을 구하는 프로그램을 작성하시오. (단 평균의 소수점 이하는 버림 한다.)\n",
    "\n",
    "x,y,z,v = map(int,input().split())\n",
    "\n",
    "a=x+y+z+v\n",
    "b=a//4\n",
    "\n",
    "print(\"sum %d\" %a)\n",
    "print('avg %d' %b)"
   ]
  },
  {
   "cell_type": "code",
   "execution_count": 27,
   "metadata": {},
   "outputs": [
    {
     "name": "stdout",
     "output_type": "stream",
     "text": [
      "35 10\n",
      "35 / 10 = 3...5\n"
     ]
    }
   ],
   "source": [
    "#두 정수를 입력받아서 나눈 몫과 나머지를 다음과 같은 형식으로 출력하는 프로그램을 작성하시오.\n",
    "\n",
    "x,y =map(int,input().split())\n",
    "\n",
    "print('%d / %d = %d...%d' %(x,y,x//y,x%y))"
   ]
  },
  {
   "cell_type": "code",
   "execution_count": 32,
   "metadata": {},
   "outputs": [
    {
     "name": "stdout",
     "output_type": "stream",
     "text": [
      "20 15\n",
      "width = 25\n",
      "length = 30\n",
      "area = 750\n"
     ]
    }
   ],
   "source": [
    "#직사각형의 가로와 세로의 길이를 정수형 값으로 입력받은 후 가로의 길이는 5 증가시키고 세로의 길이는 2배하여 저장한 후 가로의 길이 세로의 길이 넓이를 차례로 출력하는 프로그램을 작성하시오.\n",
    "\n",
    "x,y =map(int,input().split())\n",
    "\n",
    "a=x+5\n",
    "b=y*2\n",
    "c=a*b\n",
    "\n",
    "print(\"width = %d\" %a)\n",
    "print(\"length = %d\" %b)\n",
    "print(\"area = %d\" %c)"
   ]
  },
  {
   "cell_type": "code",
   "execution_count": 34,
   "metadata": {},
   "outputs": [
    {
     "name": "stdout",
     "output_type": "stream",
     "text": [
      "150 35\n",
      "145 30\n",
      "1\n"
     ]
    }
   ],
   "source": [
    "#민수와 기영이의 키와 몸무게를 입력받아 민수가 키도 크고 몸무게도 크면 1 그렇지 않으면 0을 출력하는 프로그램을 작성하시오.\n",
    "\n",
    "x,y =map(int,input().split())\n",
    "a,b =map(int,input().split())\n",
    "\n",
    "q=1 if x>a and y>b else 0\n",
    "\n",
    "print(q)"
   ]
  },
  {
   "cell_type": "code",
   "execution_count": 37,
   "metadata": {},
   "outputs": [
    {
     "name": "stdout",
     "output_type": "stream",
     "text": [
      "3.4 5.65\n",
      "19 15\n"
     ]
    }
   ],
   "source": [
    "#2개의 실수(double)를 입력 받아서 두 수의 곱을 정수로 변환한 결과값과 두 수를 각각 정수로 변환하여 곱을 구한 결과값을 출력하는 프로그램을 작성하고 프로그램 내용에 관한 설명을 주석으로 표시하시오.\n",
    "\n",
    "x,y=map(float,input().split())\n",
    "\n",
    "a=int(x*y)\n",
    "b=int(x)*int(y)\n",
    "print('%d %d' %(a,b))"
   ]
  },
  {
   "cell_type": "code",
   "execution_count": 38,
   "metadata": {},
   "outputs": [
    {
     "name": "stdout",
     "output_type": "stream",
     "text": [
      "11 3\n",
      "3 3.67\n"
     ]
    }
   ],
   "source": [
    "#2개의 정수를 입력받아서 첫 번째 수를 두 번째 수로 나눈 몫을 출력하고 첫 번째 수를 실수로 변환하여두 번째 수로 나눈 값을 구한 후 반올림하여 소수 둘째자리까지 출력하는 프로그램을 작성하고 프로그램내용에 관한 설명을 주석으로 표시하시오.\n",
    "\n",
    "x,y =map(int,input().split())\n",
    "\n",
    "a=x//y\n",
    "b=float(x)/y\n",
    "\n",
    "print(\"%d %.2f\" %(a,b))"
   ]
  },
  {
   "cell_type": "code",
   "execution_count": 42,
   "metadata": {},
   "outputs": [
    {
     "name": "stdout",
     "output_type": "stream",
     "text": [
      "70 95 65\n",
      "76.7\n"
     ]
    }
   ],
   "source": [
    "#정수로 된 3과목의 점수를 입력받아 평균을 구한 후 반올림하여 소수 첫째자리까지 출력하는 프로그램을 작성하시오.\n",
    "\n",
    "x,y,z =map(int,input().split())\n",
    "\n",
    "a=float(x+y+z)/3\n",
    "\n",
    "print(\"%.1f\" %a)"
   ]
  },
  {
   "cell_type": "code",
   "execution_count": 46,
   "metadata": {},
   "outputs": [
    {
     "name": "stdout",
     "output_type": "stream",
     "text": [
      "70.5 95.5 68.5\n",
      "sum = 233\n",
      "avg = 78\n"
     ]
    }
   ],
   "source": [
    "#실수로 된 3과목의 점수를 입력받아 총점은 정수부분의 합계를 출력하고 평균은 실수의 평균을 구한 뒤 정수부분만 출력하는 프로그램을 작성하시오.\n",
    "\n",
    "x,y,z =map(float,input().split())\n",
    "\n",
    "a=int(x)+int(y)+int(z)\n",
    "b=int((x+y+z)//3)\n",
    "\n",
    "print('sum %d' %a)\n",
    "print('avg %d' %b)"
   ]
  },
  {
   "cell_type": "code",
   "execution_count": null,
   "metadata": {},
   "outputs": [],
   "source": [
    "a = 5 \n",
    "\n",
    "a += 10 \n",
    "\n",
    "a = a - 1 #-----------------1. \n",
    "\n",
    "print(a+1)"
   ]
  },
  {
   "cell_type": "code",
   "execution_count": 52,
   "metadata": {},
   "outputs": [
    {
     "name": "stdout",
     "output_type": "stream",
     "text": [
      "2020 10 9\n"
     ]
    }
   ],
   "source": [
    "from datetime import datetime\n",
    "\n",
    "now = datetime.now()\n",
    "a = 0\n",
    "p = now.year # p\n",
    "q = now.month  # q\n",
    "r = now.day\n",
    "\n",
    "print(p, q, r)      # r "
   ]
  },
  {
   "cell_type": "code",
   "execution_count": 54,
   "metadata": {
    "scrolled": true
   },
   "outputs": [
    {
     "name": "stdout",
     "output_type": "stream",
     "text": [
      "5\n",
      "5\n"
     ]
    }
   ],
   "source": [
    "#정수를 입력받아 첫 줄에 입력 받은 숫자를 출력하고 둘째 줄에 음수이면 “minus” 라고 출력하는 프로그램을 작성하시오.\n",
    "\n",
    "x=int(input())\n",
    "\n",
    "print(x)\n",
    "if x<=0:\n",
    "    print('minus')"
   ]
  },
  {
   "cell_type": "code",
   "execution_count": 63,
   "metadata": {},
   "outputs": [
    {
     "name": "stdout",
     "output_type": "stream",
     "text": [
      "173 65\n",
      "-8\n"
     ]
    }
   ],
   "source": [
    "#“몸무게+100-키”를 비만수치 공식이라고 하자.\n",
    "#키와 몸무게를 자연수로 입력받아 첫 번째 줄에 비만수치를 출력하고, 비만수치가 0보다 크면 다음줄에 비만(\"Obesity\")이라는 메시지를 출력하는 프로그램을 작성하시오. (출력형식은 아래 출력 예를 참고하세요.)\n",
    "\n",
    "x,y=map(int,input().split())\n",
    "\n",
    "a = y+100-x\n",
    "\n",
    "print(a)\n",
    "\n",
    "if a>0:\n",
    "    print('Obesity')"
   ]
  },
  {
   "cell_type": "code",
   "execution_count": 70,
   "metadata": {},
   "outputs": [
    {
     "name": "stdout",
     "output_type": "stream",
     "text": [
      "25\n",
      "adult\n"
     ]
    }
   ],
   "source": [
    "#나이를 입력받아 20살 이상이면 \"adult\"라고 출력하고 그렇지 않으면 몇 년후에 성인이 되는지를 \"○ years later\"라는 메시지를 출력하는 프로그램을 작성하시오.\n",
    "\n",
    "x=int(input())\n",
    "\n",
    "if x>20:\n",
    "    print('adult')\n",
    "else:\n",
    "    print('%d years later' %(20-x))"
   ]
  },
  {
   "cell_type": "code",
   "execution_count": 75,
   "metadata": {},
   "outputs": [
    {
     "name": "stdout",
     "output_type": "stream",
     "text": [
      "66\n",
      "Middleweight\n"
     ]
    }
   ],
   "source": [
    "# 복싱체급은 몸무게가\n",
    "# 50.80kg 이하를 Flyweight, \n",
    "# 61.23kg 이하를 Lightweight, \n",
    "# 72.57kg 이하를 Middleweight, \n",
    "# 88.45kg 이하를 Cruiserweight, \n",
    "# 88.45kg 초과를 Heavyweight\n",
    "# 라고 하자.\n",
    "# 몸무게를 입력받아 체급을 출력하는 프로그램을 작성하시오\n",
    "\n",
    "x=float(input())\n",
    "\n",
    "if x>88.45:\n",
    "    print('Heavyweight')\n",
    "elif 72.57<x<=88.45:\n",
    "    print('Cruiserweight')\n",
    "elif 61.23<x<=72.57:\n",
    "    print('Middleweight')\n",
    "elif 50.80<x<=61.23:\n",
    "    print('Lightweight')\n",
    "elif x<=50.80:\n",
    "    print('Flyweight')\n",
    "\n",
    "\n",
    "\n"
   ]
  },
  {
   "cell_type": "code",
   "execution_count": 79,
   "metadata": {},
   "outputs": [
    {
     "name": "stdout",
     "output_type": "stream",
     "text": [
      "10 2\n",
      ">\n"
     ]
    }
   ],
   "source": [
    "a,b=map(int,input().split())\n",
    "\n",
    "if a>b:\n",
    "    print('>')\n",
    "elif a<b:\n",
    "    print('<')\n",
    "elif a==b:\n",
    "    print('==')"
   ]
  },
  {
   "cell_type": "code",
   "execution_count": 82,
   "metadata": {},
   "outputs": [
    {
     "name": "stdout",
     "output_type": "stream",
     "text": [
      "48\n",
      "F\n"
     ]
    }
   ],
   "source": [
    "#시험 점수를 입력받아 90 ~ 100점은 A, 80 ~ 89점은 B, 70 ~ 79점은 C, 60 ~ 69점은 D, 나머지 점수는 F를 출력하는 프로그램을 작성하시오.\n",
    "\n",
    "x= int(input())\n",
    "\n",
    "if 90<=x<=100:\n",
    "    print('A')\n",
    "elif 80<=x<90:\n",
    "    print(\"B\")\n",
    "elif 70<=x<80:\n",
    "    print('C')\n",
    "elif 60<=x<70:\n",
    "    print('D')\n",
    "else:\n",
    "    print('F')"
   ]
  },
  {
   "cell_type": "code",
   "execution_count": 93,
   "metadata": {},
   "outputs": [
    {
     "name": "stdout",
     "output_type": "stream",
     "text": [
      "1900\n",
      "1\n"
     ]
    }
   ],
   "source": [
    "x=int(input())\n",
    "\n",
    "if x%4==0 and x%100!=0 or x%400==0:\n",
    "    print(1)\n",
    "else:\n",
    "    print(0)"
   ]
  },
  {
   "cell_type": "code",
   "execution_count": 96,
   "metadata": {},
   "outputs": [
    {
     "name": "stdout",
     "output_type": "stream",
     "text": [
      "9\n",
      "-13\n",
      "4\n"
     ]
    }
   ],
   "source": [
    "# 흔한 수학 문제 중 하나는 주어진 점이 어느 사분면에 속하는지 알아내는 것이다. 사분면은 아래 그림처럼 1부터 4까지 번호를 갖는다. \"Quadrant n\"은 \"제n사분면\"이라는 뜻이다.\n",
    "# 예를 들어, 좌표가 (12, 5)인 점 A는 x좌표와 y좌표가 모두 양수이므로 제1사분면에 속한다. 점 B는 x좌표가 음수이고 y좌표가 양수이므로 제2사분면에 속한다.\n",
    "# 점의 좌표를 입력받아 그 점이 어느 사분면에 속하는지 알아내는 프로그램을 작성하시오. 단, x좌표와 y좌표는 모두 양수나 음수라고 가정한다.\n",
    "\n",
    "x=int(input())\n",
    "y=int(input())\n",
    "\n",
    "if x>0 and y>0:\n",
    "    print(1)\n",
    "elif x>0 and y<0:\n",
    "    print(4)\n",
    "elif x<0 and y<0:\n",
    "    print(3)\n",
    "elif x<0 and y>0:\n",
    "    print(2)"
   ]
  },
  {
   "cell_type": "code",
   "execution_count": 103,
   "metadata": {},
   "outputs": [
    {
     "name": "stdout",
     "output_type": "stream",
     "text": [
      "0 30\n",
      "23 45\n"
     ]
    }
   ],
   "source": [
    "#상근이는 매일 아침 알람을 듣고 일어난다. 알람을 듣고 바로 일어나면 다행이겠지만, 항상 조금만 더 자려는 마음 때문에 매일 학교를 지각하고 있다.\n",
    "# 상근이는 모든 방법을 동원해보았지만, 조금만 더 자려는 마음은 그 어떤 것도 없앨 수가 없었다.\n",
    "# 이런 상근이를 불쌍하게 보던, 창영이는 자신이 사용하는 방법을 추천해 주었다.\n",
    "# 바로 \"45분 일찍 알람 설정하기\"이다.\n",
    "# 이 방법은 단순하다. 원래 설정되어 있는 알람을 45분 앞서는 시간으로 바꾸는 것이다. 어차피 알람 소리를 들으면, 알람을 끄고 조금 더 잘 것이기 때문이다. 이 방법을 사용하면, 매일 아침 더 잤다는 기분을 느낄 수 있고, 학교도 지각하지 않게 된다.\n",
    "# 현재 상근이가 설정한 알람 시각이 주어졌을 때, 창영이의 방법을 사용한다면, 이를 언제로 고쳐야 하는지 구하는 프로그램을 작성하시오.\n",
    "\n",
    "h,m=map(int,input().split())\n",
    "\n",
    "if m>=45:\n",
    "    print(\"%d %d\" %(h,(m-45)))\n",
    "elif h!=0 and m<45:\n",
    "    nm=60+(m-45)\n",
    "    print(\"%d %d\" %((h-1),nm))\n",
    "elif h==0 and m<45:\n",
    "    nm=60+(m-45)\n",
    "    print(\"%d %d\" %(23,nm))"
   ]
  },
  {
   "cell_type": "code",
   "execution_count": 104,
   "metadata": {},
   "outputs": [
    {
     "name": "stdout",
     "output_type": "stream",
     "text": [
      "2\n",
      "2 * 1 = 2\n",
      "2 * 2 = 4\n",
      "2 * 3 = 6\n",
      "2 * 4 = 8\n",
      "2 * 5 = 10\n",
      "2 * 6 = 12\n",
      "2 * 7 = 14\n",
      "2 * 8 = 16\n",
      "2 * 9 = 18\n"
     ]
    }
   ],
   "source": [
    "#N을 입력받은 뒤, 구구단 N단을 출력하는 프로그램을 작성하시오. 출력 형식에 맞춰서 출력하면 된다.\n",
    "\n",
    "n=int(input())\n",
    "\n",
    "for i in range(1,10):\n",
    "    print('%d * %d = %d' %(n,i,n*i))"
   ]
  },
  {
   "cell_type": "code",
   "execution_count": 108,
   "metadata": {},
   "outputs": [
    {
     "name": "stdout",
     "output_type": "stream",
     "text": [
      "5\n",
      "1 1\n",
      "2 3\n",
      "3 4\n",
      "9 8\n",
      "5 2\n",
      "2\n",
      "5\n",
      "7\n",
      "17\n",
      "7\n"
     ]
    }
   ],
   "source": [
    "x=int(input())\n",
    "l=[]\n",
    "\n",
    "for i in range(0,x):\n",
    "    a,b=map(int,input().split())\n",
    "    c=a+b\n",
    "    l.append(c)\n",
    "\n",
    "for j in range(0,x):\n",
    "    print(l[j])\n",
    "    "
   ]
  },
  {
   "cell_type": "code",
   "execution_count": 111,
   "metadata": {},
   "outputs": [
    {
     "name": "stdout",
     "output_type": "stream",
     "text": [
      "100\n",
      "5050\n"
     ]
    }
   ],
   "source": [
    "n=int(input())\n",
    "\n",
    "sum=0\n",
    "\n",
    "for i in range(n+1):\n",
    "    sum+=i\n",
    "\n",
    "print(sum)"
   ]
  },
  {
   "cell_type": "code",
   "execution_count": 114,
   "metadata": {},
   "outputs": [
    {
     "name": "stdout",
     "output_type": "stream",
     "text": [
      "5\n",
      "1 1\n",
      "2\n",
      "12 34\n",
      "46\n",
      "5 500\n",
      "505\n",
      "40 60\n",
      "100\n",
      "1000 1000\n",
      "2000\n"
     ]
    }
   ],
   "source": [
    "n=int(input())\n",
    "\n",
    "for i in range(n):\n",
    "    a,b=map(int,input().split())\n",
    "    c=a+b\n",
    "    print(c)"
   ]
  },
  {
   "cell_type": "code",
   "execution_count": 115,
   "metadata": {},
   "outputs": [
    {
     "name": "stdout",
     "output_type": "stream",
     "text": [
      "5\n",
      "1\n",
      "2\n",
      "3\n",
      "4\n",
      "5\n"
     ]
    }
   ],
   "source": [
    "#자연수 N이 주어졌을 때, 1부터 N까지 한 줄에 하나씩 출력하는 프로그램을 작성하시오.\n",
    "\n",
    "n=int(input())\n",
    "\n",
    "for i in range(1,n+1):\n",
    "    print(i)"
   ]
  },
  {
   "cell_type": "code",
   "execution_count": 119,
   "metadata": {},
   "outputs": [
    {
     "name": "stdout",
     "output_type": "stream",
     "text": [
      "5\n",
      "5\n",
      "4\n",
      "3\n",
      "2\n",
      "1\n"
     ]
    }
   ],
   "source": [
    "n=int(input())\n",
    "\n",
    "for i in range(n,0,-1):\n",
    "    print(i)"
   ]
  },
  {
   "cell_type": "code",
   "execution_count": null,
   "metadata": {},
   "outputs": [],
   "source": []
  },
  {
   "cell_type": "code",
   "execution_count": null,
   "metadata": {},
   "outputs": [],
   "source": []
  }
 ],
 "metadata": {
  "kernelspec": {
   "display_name": "Python 3",
   "language": "python",
   "name": "python3"
  },
  "language_info": {
   "codemirror_mode": {
    "name": "ipython",
    "version": 3
   },
   "file_extension": ".py",
   "mimetype": "text/x-python",
   "name": "python",
   "nbconvert_exporter": "python",
   "pygments_lexer": "ipython3",
   "version": "3.8.3"
  }
 },
 "nbformat": 4,
 "nbformat_minor": 4
}
