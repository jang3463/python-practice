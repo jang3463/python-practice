{
 "cells": [
  {
   "cell_type": "code",
   "execution_count": 3,
   "metadata": {},
   "outputs": [
    {
     "name": "stdout",
     "output_type": "stream",
     "text": [
      "10\n",
      "3628800\n"
     ]
    }
   ],
   "source": [
    "def ft(a):\n",
    "    x=1\n",
    "    for i in range(1,a+1):\n",
    "        x=x*i\n",
    "    return x\n",
    "\n",
    "n=int(input())\n",
    "\n",
    "print(ft(n))\n"
   ]
  },
  {
   "cell_type": "code",
   "execution_count": 15,
   "metadata": {},
   "outputs": [
    {
     "name": "stdout",
     "output_type": "stream",
     "text": [
      "10\n",
      "3628800\n"
     ]
    }
   ],
   "source": [
    "#재귀함수 이용한 팩토리얼 \n",
    "\n",
    "def ft(a):\n",
    "    if a==1:\n",
    "        return 1\n",
    "    else:\n",
    "        return ft(a-1)*a\n",
    "\n",
    "n=int(input())\n",
    "\n",
    "print(ft(n))"
   ]
  },
  {
   "cell_type": "code",
   "execution_count": 11,
   "metadata": {},
   "outputs": [
    {
     "name": "stdout",
     "output_type": "stream",
     "text": [
      "17\n",
      "1597\n"
     ]
    }
   ],
   "source": [
    "#재귀함수 이용한 피보나치 수열\n",
    "\n",
    "def fn(x):\n",
    "    if x==0:\n",
    "        return 0\n",
    "    elif x==1:\n",
    "        return 1\n",
    "    else:\n",
    "        return fn(x-1)+fn(x-2)\n",
    "\n",
    "n=int(input())\n",
    "\n",
    "print(fn(n))"
   ]
  },
  {
   "cell_type": "code",
   "execution_count": 17,
   "metadata": {},
   "outputs": [
    {
     "name": "stdout",
     "output_type": "stream",
     "text": [
      "baekjoon\n",
      "['b', 'a', 'e', 'k', 'j', 'o', 'o', 'n']\n"
     ]
    }
   ],
   "source": [
    "x=input()\n",
    "\n",
    "y=['a','b','c','d','e','f','g','h','i','j','k','l','m','n','o','p','q','r','s','t','u','v','w','x','y','z']\n",
    "\n",
    "z=[]\n",
    "\n",
    "for i in range(len(x)):\n",
    "    for j in range(len(y)):\n",
    "        if x[i]==y[j]:\n",
    "            y[j]=1"
   ]
  },
  {
   "cell_type": "code",
   "execution_count": null,
   "metadata": {},
   "outputs": [],
   "source": []
  },
  {
   "cell_type": "code",
   "execution_count": null,
   "metadata": {},
   "outputs": [],
   "source": []
  },
  {
   "cell_type": "code",
   "execution_count": null,
   "metadata": {},
   "outputs": [],
   "source": []
  },
  {
   "cell_type": "code",
   "execution_count": null,
   "metadata": {},
   "outputs": [],
   "source": []
  }
 ],
 "metadata": {
  "kernelspec": {
   "display_name": "Python 3",
   "language": "python",
   "name": "python3"
  },
  "language_info": {
   "codemirror_mode": {
    "name": "ipython",
    "version": 3
   },
   "file_extension": ".py",
   "mimetype": "text/x-python",
   "name": "python",
   "nbconvert_exporter": "python",
   "pygments_lexer": "ipython3",
   "version": "3.8.3"
  }
 },
 "nbformat": 4,
 "nbformat_minor": 4
}
