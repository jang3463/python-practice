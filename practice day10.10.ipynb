{
 "cells": [
  {
   "cell_type": "code",
   "execution_count": 33,
   "metadata": {},
   "outputs": [
    {
     "name": "stdout",
     "output_type": "stream",
     "text": [
      "5\n",
      "1 2\n",
      "Case #1: 3\n",
      "2 3\n",
      "Case #2: 5\n",
      "4 9\n",
      "Case #3: 13\n",
      "12 45\n",
      "Case #4: 57\n",
      "4 4\n",
      "Case #5: 8\n"
     ]
    }
   ],
   "source": [
    "#두 정수 A와 B를 입력받은 다음, A+B를 출력하는 프로그램을 작성하시오.\n",
    "\n",
    "n=int(input())\n",
    "\n",
    "for i in range(n):\n",
    "    x,y=map(int,input().split())\n",
    "    print('Case #%d: %d' %(i+1,(x+y)))\n"
   ]
  },
  {
   "cell_type": "code",
   "execution_count": null,
   "metadata": {},
   "outputs": [],
   "source": [
    "#두 정수 A와 B를 입력받은 다음, A+B를 출력하는 프로그램을 작성하시오.\n",
    "\n",
    "n=int(input())\n",
    "\n",
    "for i in range(n):\n",
    "    x,y=map(int,input().split())\n",
    "    print('Case #%d: %d + %d = %d' %(i+1,x,y,(x+y)))\n"
   ]
  },
  {
   "cell_type": "code",
   "execution_count": null,
   "metadata": {},
   "outputs": [],
   "source": [
    "#첫째 줄에는 별 1개, 둘째 줄에는 별 2개, N번째 줄에는 별 N개를 찍는 문제\n",
    "\n",
    "n=int(input())\n",
    "\n",
    "for i in range(1,n+1):\n",
    "    print(\"*\"*i)"
   ]
  },
  {
   "cell_type": "code",
   "execution_count": null,
   "metadata": {
    "scrolled": true
   },
   "outputs": [],
   "source": [
    "#첫째 줄에는 별 1개, 둘째 줄에는 별 2개, N번째 줄에는 별 N개를 찍는 문제 하지만, 오른쪽을 기준으로 정렬한 별(예제 참고)을 출력하시오.\n",
    "\n",
    "n=int(input())\n",
    "\n",
    "for i in range(1,n+1):\n",
    "    star='*'*i\n",
    "    print(star.rjust(n))\n"
   ]
  },
  {
   "cell_type": "code",
   "execution_count": 4,
   "metadata": {},
   "outputs": [
    {
     "name": "stdout",
     "output_type": "stream",
     "text": [
      "10 5\n",
      "1 2 3 4 5 6 7 89 10 9\n",
      "1 2 3 4 "
     ]
    }
   ],
   "source": [
    "#정수 N개로 이루어진 수열 A와 정수 X가 주어진다. 이때, A에서 X보다 작은 수를 모두 출력하는 프로그램을 작성하시오.\n",
    "\n",
    "n,x=map(int,input().split())\n",
    "\n",
    "a=[]\n",
    "\n",
    "a[:n]=map(int,input().split())\n",
    "\n",
    "for j in range(n):\n",
    "    if a[j]<x:\n",
    "        print(a[j], end=' ')\n"
   ]
  },
  {
   "cell_type": "code",
   "execution_count": 6,
   "metadata": {},
   "outputs": [
    {
     "name": "stdout",
     "output_type": "stream",
     "text": [
      "1 1\n",
      "2\n",
      "2 3\n",
      "5\n",
      "9 8\n",
      "17\n",
      "0 0\n"
     ]
    }
   ],
   "source": [
    "x=1\n",
    "y=1\n",
    "\n",
    "while x!=0 or y!=0:\n",
    "    x,y=map(int,input().split())\n",
    "    z=x+y\n",
    "    if z!=0:\n",
    "        print(z)\n",
    "    "
   ]
  },
  {
   "cell_type": "code",
   "execution_count": 11,
   "metadata": {},
   "outputs": [
    {
     "name": "stdout",
     "output_type": "stream",
     "text": [
      "1 1\n",
      "2\n",
      "2 3\n",
      "5\n",
      "\n"
     ]
    }
   ],
   "source": [
    "while True:\n",
    "    try:\n",
    "        x,y=map(int,input().split())\n",
    "    except:\n",
    "        break\n",
    "    z=x+y\n",
    "    print(z)"
   ]
  },
  {
   "cell_type": "code",
   "execution_count": 32,
   "metadata": {},
   "outputs": [
    {
     "name": "stdout",
     "output_type": "stream",
     "text": [
      "26\n",
      "4\n"
     ]
    }
   ],
   "source": [
    "#0보다 크거나 같고, 99보다 작거나 같은 정수가 주어질 때 다음과 같은 연산을 할 수 있다. 먼저 주어진 수가 10보다 작다면 앞에 0을 붙여 두 자리 수로 만들고, 각 자리의 숫자를 더한다. 그 다음, 주어진 수의 가장 오른쪽 자리 수와 앞에서 구한 합의 가장 오른쪽 자리 수를 이어 붙이면 새로운 수를 만들 수 있다. 다음 예를 보자.\n",
    "# 26부터 시작한다. 2+6 = 8이다. 새로운 수는 68이다. 6+8 = 14이다. 새로운 수는 84이다. 8+4 = 12이다. 새로운 수는 42이다. 4+2 = 6이다. 새로운 수는 26이다.\n",
    "# 위의 예는 4번만에 원래 수로 돌아올 수 있다. 따라서 26의 사이클의 길이는 4이다.\n",
    "# N이 주어졌을 때, N의 사이클의 길이를 구하는 프로그램을 작성하시오.\n",
    "\n",
    "n=int(input())\n",
    "count=0\n",
    "check=n\n",
    "\n",
    "while True:\n",
    "    a=n%10\n",
    "    b=n//10\n",
    "    c=(a+b)%10\n",
    "    x=10*a+c\n",
    "    n=x\n",
    "    count+=1\n",
    "    if x==check:\n",
    "        break\n",
    "    \n",
    "\n",
    "print(count)"
   ]
  },
  {
   "cell_type": "code",
   "execution_count": 1,
   "metadata": {},
   "outputs": [
    {
     "name": "stdout",
     "output_type": "stream",
     "text": [
      "5\n",
      "20 10 35 30 7\n",
      "7 35\n"
     ]
    }
   ],
   "source": [
    "#N개의 정수가 주어진다. 이때, 최솟값과 최댓값을 구하는 프로그램을 작성하시오.\n",
    " \n",
    "n=int(input())\n",
    "a=[]\n",
    "a[:n]=map(int,input().split())\n",
    "min=a[0]\n",
    "max=a[0]\n",
    "\n",
    "for i in range(n):\n",
    "    if a[i]>max:\n",
    "        max=a[i]\n",
    "        \n",
    "    if a[i]<min:\n",
    "        min=a[i]\n",
    "        \n",
    "print(\"%d %d\" %(min,max))"
   ]
  },
  {
   "cell_type": "code",
   "execution_count": 2,
   "metadata": {},
   "outputs": [
    {
     "name": "stdout",
     "output_type": "stream",
     "text": [
      "3\n",
      "29\n",
      "38\n",
      "12\n",
      "57\n",
      "74\n",
      "40\n",
      "85\n",
      "61\n",
      "85\n"
     ]
    }
   ],
   "source": [
    "a=[]\n",
    "\n",
    "for i in range(9):\n",
    "   a.append(int(input())) \n",
    "\n",
    "print(max(a))"
   ]
  },
  {
   "cell_type": "code",
   "execution_count": 1,
   "metadata": {},
   "outputs": [
    {
     "name": "stdout",
     "output_type": "stream",
     "text": [
      "3\n",
      "29\n",
      "38\n",
      "12\n",
      "57\n",
      "74\n",
      "40\n",
      "85\n",
      "61\n",
      "85\n",
      "8\n"
     ]
    }
   ],
   "source": [
    "num_list = []\n",
    "for i in range(9):\n",
    "    num_list.append(int(input()))\n",
    "    \n",
    "print(max(num_list))\n",
    "print(num_list.index(max(num_list))+1)"
   ]
  },
  {
   "cell_type": "code",
   "execution_count": 15,
   "metadata": {},
   "outputs": [
    {
     "name": "stdout",
     "output_type": "stream",
     "text": [
      "150 266 427\n",
      "3\n",
      "1\n",
      "0\n",
      "2\n",
      "0\n",
      "0\n",
      "0\n",
      "2\n",
      "0\n",
      "0\n"
     ]
    }
   ],
   "source": [
    "a=int(input())\n",
    "b=int(input())\n",
    "c=int(input())\n",
    "\n",
    "x=str(a*b*c)\n",
    "\n",
    "y=list(x)\n",
    "\n",
    "print(y.count('0'))\n",
    "print(y.count('1'))\n",
    "print(y.count('2'))\n",
    "print(y.count('3'))\n",
    "print(y.count('4'))\n",
    "print(y.count('5'))\n",
    "print(y.count('6'))\n",
    "print(y.count('7'))\n",
    "print(y.count('8'))\n",
    "print(y.count('9'))"
   ]
  },
  {
   "cell_type": "code",
   "execution_count": 20,
   "metadata": {},
   "outputs": [
    {
     "name": "stdout",
     "output_type": "stream",
     "text": [
      "39\n",
      "40\n",
      "41\n",
      "42\n",
      "43\n",
      "44\n",
      "82\n",
      "83\n",
      "84\n",
      "85\n",
      "6\n"
     ]
    }
   ],
   "source": [
    "#두 자연수 A와 B가 있을 때, A%B는 A를 B로 나눈 나머지 이다. 예를 들어, 7, 14, 27, 38을 3으로 나눈 나머지는 1, 2, 0, 2이다. \n",
    "# 수 10개를 입력받은 뒤, 이를 42로 나눈 나머지를 구한다. 그 다음 서로 다른 값이 몇 개 있는지 출력하는 프로그램을 작성하시오.\n",
    "\n",
    "a=[]\n",
    "b=[]\n",
    "c=[]\n",
    "\n",
    "for i in range(10):\n",
    "    a.append(int(input()))\n",
    "\n",
    "for i in range(10):\n",
    "    b.append(a[i]%42)\n",
    "\n",
    "for j in b:\n",
    "    if j not in c:\n",
    "        c.append(j)\n",
    "\n",
    "print(len(c))"
   ]
  },
  {
   "cell_type": "code",
   "execution_count": 26,
   "metadata": {},
   "outputs": [
    {
     "name": "stdout",
     "output_type": "stream",
     "text": [
      "5\n",
      "1 2 4 8 16\n",
      "38.75\n"
     ]
    }
   ],
   "source": [
    "#세준이는 기말고사를 망쳤다. 세준이는 점수를 조작해서 집에 가져가기로 했다. 일단 세준이는 자기 점수 중에 최댓값을 골랐다. 이 값을 M이라고 한다. 그리고 나서 모든 점수를 점수/M*100으로 고쳤다.\n",
    "# 예를 들어, 세준이의 최고점이 70이고, 수학점수가 50이었으면 수학점수는 50/70*100이 되어 71.43점이 된다.\n",
    "# 세준이의 성적을 위의 방법대로 새로 계산했을 때, 새로운 평균을 구하는 프로그램을 작성하시오.\n",
    "\n",
    "n=int(input())\n",
    "a=[]\n",
    "b=[]\n",
    "sum1=0\n",
    "a[:n]=map(int,input().split())\n",
    "\n",
    "m=max(a)\n",
    "\n",
    "for i in a:\n",
    "    new=i/m*100\n",
    "    b.append(new)\n",
    "\n",
    "avg=sum(b)/len(b)\n",
    "print(avg)\n",
    "    "
   ]
  },
  {
   "cell_type": "code",
   "execution_count": 32,
   "metadata": {},
   "outputs": [
    {
     "name": "stdout",
     "output_type": "stream",
     "text": [
      "3\n",
      "OOXXOXXOOO\n",
      "10\n",
      "OOXXOOXXOO\n",
      "9\n",
      "OOOOOOOOOO\n",
      "55\n"
     ]
    }
   ],
   "source": [
    "# \"OOXXOXXOOO\"와 같은 OX퀴즈의 결과가 있다. O는 문제를 맞은 것이고, X는 문제를 틀린 것이다. 문제를 맞은 경우 그 문제의 점수는 그 문제까지 연속된 O의 개수가 된다. 예를 들어, 10번 문제의 점수는 3이 된다.\n",
    "# \"OOXXOXXOOO\"의 점수는 1+2+0+0+1+0+0+1+2+3 = 10점이다.\n",
    "# OX퀴즈의 결과가 주어졌을 때, 점수를 구하는 프로그램을 작성하시오.\n",
    "\n",
    "\n",
    "n=int(input())\n",
    "\n",
    "for i in range(n):\n",
    "    score=0\n",
    "    cnt=0\n",
    "    a=list(input())\n",
    "    for j in range(len(a)):\n",
    "        if a[j]=='O':\n",
    "            cnt+=1\n",
    "            score+=cnt\n",
    "        elif a[j]=='X':\n",
    "            cnt=0\n",
    "    print(score)"
   ]
  },
  {
   "cell_type": "code",
   "execution_count": 57,
   "metadata": {},
   "outputs": [
    {
     "name": "stdout",
     "output_type": "stream",
     "text": [
      "1\n",
      "3 70 90 81\n",
      "66.667%\n"
     ]
    }
   ],
   "source": [
    "c=int(input())\n",
    "\n",
    "for i in range(c):\n",
    "    a=list(map(int,input().split()))\n",
    "    count=0\n",
    "    num=a[0]\n",
    "    del a[0]\n",
    "    avg=sum(a)/num\n",
    "    for j in a:\n",
    "        if j>avg:\n",
    "            count+=1\n",
    "        per=count/num*100\n",
    "    print('%.3f' %per +'%')"
   ]
  }
 ],
 "metadata": {
  "kernelspec": {
   "display_name": "Python 3",
   "language": "python",
   "name": "python3"
  },
  "language_info": {
   "codemirror_mode": {
    "name": "ipython",
    "version": 3
   },
   "file_extension": ".py",
   "mimetype": "text/x-python",
   "name": "python",
   "nbconvert_exporter": "python",
   "pygments_lexer": "ipython3",
   "version": "3.8.3"
  }
 },
 "nbformat": 4,
 "nbformat_minor": 4
}
